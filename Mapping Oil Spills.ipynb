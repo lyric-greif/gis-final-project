{
 "cells": [
  {
   "cell_type": "markdown",
   "id": "8646a735-abfe-4444-b628-bf3dc2d3f72f",
   "metadata": {},
   "source": [
    "# Mapping and Hot-Spotting Oil-Spill Risk"
   ]
  },
  {
   "cell_type": "markdown",
   "id": "96196efb-b5c9-4979-93d4-ced26519d705",
   "metadata": {},
   "source": [
    "\n",
    "#### Natalie Mesplay (A59025205)      Lyric Greif (A59024988)      Vittoria Trupiano (A16621484) "
   ]
  },
  {
   "cell_type": "markdown",
   "id": "56741dbf-3a8b-4e33-a74d-435b8e982583",
   "metadata": {},
   "source": [
    "## 3. Research Question and Significance"
   ]
  },
  {
   "cell_type": "markdown",
   "id": "00b09a8b-c9e5-4216-b37f-4541e6f4ba09",
   "metadata": {},
   "source": [
    "This project employs machine learning and spatial statistic techniques on remotely sensed data to examine spatial clustering of oil spills in the Mediterranean Sea. Specifically, we investigate whether oil spills tend to concentrate in particular locations within the Mediterranean Sea, and whether any locations contain statistically significant hotspots. Understanding these spatial patterns is important for identifying high-risk areas within the Mediterranean, which can support the development of oil spill response strategies in vulnerable regions of the sea. \n",
    "\n",
    "The primary audience for this analysis is the European Maritime Safety Agency, which is responsible for preventing and responding to incidents of ocean pollution. Additionally, individual shipping agencies, refineries, and regional port authorities can benefit from heightened awareness of oil spill risk areas. \n",
    "\n",
    "Using machine learning to identify spatial clusters is a valuable tool for visualizing the concentration of oil spill incidents within a particular region. Additionally, analyzing hotspots in the context of oil spills is important because it reveals statistically significant clusters of pollution concentration, highlighting areas where regulatory compliance can be improved. These insights support the prevention, monitoring, and cleanup of oil spills by delivering insight into regions which require additional monitoring. This knowledge is important for developing actionable policy recommendations that protect marine ecosystems and regulate the transport of petroleum products. \n",
    "\n",
    "Our final analysis changed significantly compared to our project proposal. Our original project goal was to determine which spatial and/or temporal clusters of spills portend poor port-reception compliance. The reason for the divergence was the lack of available data on vessel identification (MMSI or AIS), which prevented us from linking oil spill incidents to specific vessels and ports. Due to the limited availability of vessel and port identification data, we pivoted to performing a broader spatial analysis of oil spill distribution and concentration patterns. \n"
   ]
  },
  {
   "cell_type": "markdown",
   "id": "4741d15a-e0cb-46da-9595-53a4bff061b7",
   "metadata": {},
   "source": [
    "## 4. Background and Literature"
   ]
  },
  {
   "cell_type": "markdown",
   "id": "85c266e7-bbe5-42d2-b5b0-9c6bc2e17546",
   "metadata": {},
   "source": [
    "Oil spills have devastating effects on fish, marine mammals, birds, and invertebrate species (Vieties et al., 2004). The Mediterranean Sea has a high incidence of oil spills due to heavy maritime traffic and industrial activities on the coast, including large numbers of refineries and petrochemical facilities (European Environmental Agency, 2025). Around 35% of oil entering the Mediterranean Sea originates from shipping activities, while 45% comes from land-based activities (European Environmental Agency, 2025).\n",
    "\n",
    "Machine learning tools are increasingly being employed to identify and classify oil spills. Due to their devastating impact and diverse chemical properties, effective treatment of oil spills depends not only on timely identification, but also accurate classification (Bui et al., 2024), prediction (Bisen et al., 2024), and mapping. There are two primary methods used for identification of oil spills: direct surveillance using marine vehicles and remote sensing techniques. Several novel approaches build on these techniques to improve identification and classification methods through data augmentation (Bui et al., 2024) and prediction using vessel movement data (Bisen et al., 2024). Analyzing oil spill incident data can also be used to determine a baseline for the improvement of prevention and response activities (Park et al., 2016).\n",
    "\n",
    "Machine learning can also help identify where oil spills are naturally clustered within a marine region. Insight on spatial concentration of oil spills is complemented by hotspot analysis, which is used to determine the location of statistically significant clusters of environmental hazards. Our analysis takes this route, using a combination of machine learning and spatial statistics to reveal areas of the Mediterranean Sea where oil spills are concentrated. \n",
    "\n",
    "The references included in this section helped us situate our project in the context of existing research using machine learning and spatial statistical analysis. With these sources in mind, we were better able to understand possible directions for our analysis and decided to focus on determining whether oil spills concentrate randomly or display statistically significant patterns. \n",
    "\n",
    "References: \n",
    "1. Durango-Cordero, Juan, Mehdi Saqalli, Christophe Laplanche, Marine Locquet, and Arnaud Elger. 2018. “Spatial Analysis of Accidental Oil Spills Using Heterogeneous Data: A Case Study from the North-Eastern Ecuadorian Amazon.” Sustainability 10 (12): 4719. https://doi.org/10.3390/su10124719.\n",
    "2. Park, Yong, Hamad Al-Qublan, EunSu Lee, and Gokhan Egilmez. 2016. “Interactive Spatiotemporal Analysis of Oil Spills Using Comap in North Dakota.” Informatics 3 (2): 4. https://doi.org/10.3390/informatics3020004.\n",
    "3. Bayramov, Emil, Kada ,Martin, and Manfred and Buchroithner. 2018. “Monitoring Oil Spill Hotspots, Contamination Probability Modelling and Assessment of Coastal Impacts in the Caspian Sea Using SENTINEL-1, LANDSAT-8, RADARSAT, ENVISAT and ERS Satellite Sensors.” Journal of Operational Oceanography 11 (1): 27–43. https://doi.org/10.1080/1755876X.2018.1438343.\n",
    "4. European Environment Agency. 2025. “Oil Spills in Europe’s Seas.” March 2, 2025. https://www.eea.europa.eu/en/european-zero-pollution-dashboards/indicators/oil-spills-in-europes-seas.\n"
   ]
  },
  {
   "cell_type": "markdown",
   "id": "f0d3ed84-3732-42c8-b9a1-5c6070617cb0",
   "metadata": {},
   "source": [
    "## 5. Python Packages"
   ]
  },
  {
   "cell_type": "markdown",
   "id": "fbd797af-abb7-4a38-8f4e-ceaad85a1fb1",
   "metadata": {},
   "source": [
    "### --- Core System & Web Utilities ---"
   ]
  },
  {
   "cell_type": "markdown",
   "id": "43599ec4-0568-412c-b3d9-065037b9f970",
   "metadata": {},
   "source": [
    "#### `import os` used to interact with the operating system, such as file paths\n",
    "#### `import requests` send HTTP requests to fetch data from APIs"
   ]
  },
  {
   "cell_type": "code",
   "execution_count": 1,
   "id": "c134c049-3b44-4311-85b4-0cdffeb06c50",
   "metadata": {},
   "outputs": [],
   "source": [
    "import os  \n",
    "import requests "
   ]
  },
  {
   "cell_type": "markdown",
   "id": "998a1041-13fb-4ae8-a927-6c0d21d75074",
   "metadata": {},
   "source": [
    "### --- Data Handling ---"
   ]
  },
  {
   "cell_type": "markdown",
   "id": "9bcfe744-2d36-444e-b96a-6e30d7d9bd4d",
   "metadata": {},
   "source": [
    "#### Used to load, clean, and manage tabular datasets (e.g. vessel, spill, and centroid data)"
   ]
  },
  {
   "cell_type": "code",
   "execution_count": 2,
   "id": "3a3b5ca5-c312-451c-bb21-311cfcb0364f",
   "metadata": {},
   "outputs": [],
   "source": [
    "import pandas as pd  "
   ]
  },
  {
   "cell_type": "markdown",
   "id": "4aaceb12-401e-4049-b433-a9087bb6af60",
   "metadata": {},
   "source": [
    "### --- Geospatial Tools ---"
   ]
  },
  {
   "cell_type": "markdown",
   "id": "a17b517d-c360-4e6a-a9b9-e7b5b6494473",
   "metadata": {},
   "source": [
    "#### `import geopanda` as gpds used for loading, transforming, and plotting geographic features (e.g., vessel positions, spill areas)\n",
    "#### `import contextily as ctx` adds basemaps for geographic context; used in `query_to_gdf_vis` to add OpenStreetMap tiles\n",
    "#### "
   ]
  },
  {
   "cell_type": "code",
   "execution_count": 3,
   "id": "05e8986c-76bf-4183-a24f-cd134e35731c",
   "metadata": {},
   "outputs": [],
   "source": [
    "import geopandas as gpd  \n",
    "import contextily as ctx  \n",
    "from shapely.geometry import Point"
   ]
  },
  {
   "cell_type": "markdown",
   "id": "9b4edf9e-07af-4cd0-9a03-75dbbc3f380e",
   "metadata": {},
   "source": [
    "### --- Visualization ---"
   ]
  },
  {
   "cell_type": "markdown",
   "id": "8354cacf-c6a7-4795-ac85-9a6a8a91a11b",
   "metadata": {},
   "source": [
    "#### Used extensively to visualize clustering results and hot spot maps\n"
   ]
  },
  {
   "cell_type": "code",
   "execution_count": 4,
   "id": "effc4b25-e69b-4f55-8fd6-428cfd180c7b",
   "metadata": {},
   "outputs": [],
   "source": [
    "import matplotlib.pyplot as plt "
   ]
  },
  {
   "cell_type": "markdown",
   "id": "6474dc1b-0154-4894-ac4c-bc9671062870",
   "metadata": {},
   "source": [
    "###  --- ArcGIS Analysis Tools ---"
   ]
  },
  {
   "cell_type": "markdown",
   "id": "1267a4c8-d7df-4b5c-b004-e4265fa02a38",
   "metadata": {},
   "source": [
    "#### `import arcgis`, as it is the main ArcGIS package enabling spatial analysis and GIS platform access \n",
    "#### `from arcgis.gis import GIS` logs in to ArcGIS Online and manage hosted layers. \n",
    "#### `from arcgis import geometry` is used for geometric operations, such as buffering and spatial queries.\n",
    "#### `from arcgis.features import GeoAccessor, GeoSeriesAccessor` converts GeoDataFrames to Spatially Enabled DataFrames and vice versa, which is critical for integration between GeoPandas and ArcGIS.\n",
    "#### `from IPython.display import display` displays DataFrames and results clearly in cells.\n",
    "#### `from arcgis.features import analysis` is used would be for general geoprocessing (e.g., buffer, merge).\n",
    "#### `from arcgis.features import analyze_patterns` are used for Hot Spot Analysis (Gi*) on vessel spill area data.\n",
    "#### `from arcgis.features import summarize_data` summarizes spatial statistics over regions"
   ]
  },
  {
   "cell_type": "code",
   "execution_count": 5,
   "id": "c95d0b7f-8ae1-4c0d-af71-514aa01a3277",
   "metadata": {},
   "outputs": [],
   "source": [
    "import arcgis  \n",
    "from arcgis.gis import GIS  \n",
    "from arcgis import geometry  \n",
    "from arcgis.features import GeoAccessor, GeoSeriesAccessor \n",
    "from IPython.display import display  \n",
    "from arcgis.features import analysis  \n",
    "from arcgis.features import analyze_patterns \n",
    "from arcgis.features import summarize_data"
   ]
  },
  {
   "cell_type": "markdown",
   "id": "723e1c29-18b2-478c-9290-66ee6701e701",
   "metadata": {},
   "source": [
    "### --- Machine Learning (for Clustering) ---"
   ]
  },
  {
   "cell_type": "markdown",
   "id": "0d5a5e18-95fa-47d0-bb0c-aa62bf9bb6f6",
   "metadata": {},
   "source": [
    "#### `from sklearn.cluster import DBSCAN`  is a density-based clustering algorithm utilized in this project to identify spill clusters\n",
    "#### `from sklearn.preprocessing import StandardScaler` scales spatial coordinates for better clustering performance"
   ]
  },
  {
   "cell_type": "code",
   "execution_count": 6,
   "id": "ebee195f-32bb-4994-a221-6d583baec8ee",
   "metadata": {},
   "outputs": [],
   "source": [
    "from sklearn.cluster import DBSCAN  # Density-based clustering algorithm (used to identify spill clusters)\n",
    "from sklearn.preprocessing import StandardScaler  # Scales spatial coordinates for better clustering performance"
   ]
  },
  {
   "cell_type": "code",
   "execution_count": null,
   "id": "9b0bdb2a-7cf2-4ad9-99d5-cf5f118246b9",
   "metadata": {},
   "outputs": [],
   "source": [
    "gis = GIS(username = 'gpec447sp25_27')"
   ]
  },
  {
   "cell_type": "markdown",
   "id": "c13f5d97-ddea-4a94-8be8-8ea779fd6e35",
   "metadata": {},
   "source": [
    "## 6. Data Sources"
   ]
  },
  {
   "cell_type": "markdown",
   "id": "3e86d805-c5b1-4ee3-9cf1-265f18859b3e",
   "metadata": {},
   "source": [
    "The primary data source for this project comes from SkyTruth Cerulean’s API, which detects both acute and chronic oil pollution from vessels and offshore oil platforms. SkyTruth Cerulean derives oil slick data from the Sentinel-1 satellite mission of the European Space Agency. Sentinel scenes are filtered to exclude land, then Skytruth applies its machine learning algorithm to determine which pixels contain oil. The model accomplishes this by pulling satellite images from the server, segmenting pixels to identify those containing oil, and creating a vector outline to represent the oil slick footprint. Finally, an algorithm is used to link oil slicks to a source: either broadcasting vessels, oil infrastructure, or dark vessels. \n",
    "\n",
    "Our data selection originally included the Maritime Mobile Service Identity (MMSI) number, which we planned to use to link spills to vessels and/or ports. However, the MMSI is unavailable through the Cerulean API. Therefore, we only used data made available through the API, which included oil slick geometry, slick ID, the timestamp of the oil slick, and the cause of the slick. Without vessel identification, we were unable to link spills with vessels, and subsequently to the ports to which the vessels travel. Future analysis would benefit from data on the origin and destinations of vessels involved with oil spills in order to better understand where vessels with poor environmental compliance call. "
   ]
  },
  {
   "cell_type": "markdown",
   "id": "50817b4c-0968-46f6-8071-469b84314620",
   "metadata": {},
   "source": [
    "## 7. Data Cleaning"
   ]
  },
  {
   "cell_type": "markdown",
   "id": "391f6ba3-6486-4c74-ac25-deec1db7c2da",
   "metadata": {},
   "source": [
    "The data cleaning process for this project consists of querying the Cerulean API to retrieve oil slick data in the western and eastern portions of the Mediterranean Sea. Query results were filtered to include oil slick detections with a machine confidence level over 90%, with dates filtered between Jan. 1st, 2020 and Jan. 1st, 2025. The raw data was converted to a GeoDataFrame and reprojected to EPSG: 3035 (the projected CRS for Europe).\n",
    "\n",
    "The western and eastern segments of the Mediterranean Sea were joined and centroids were calculated for each oil slick geometry, then reprojected back into latitude and longitude. Finally, the coordinates of each point were extracted. These steps allowed for the visualization of oil slick geometries, and for clustering using DBSCAN. "
   ]
  },
  {
   "cell_type": "markdown",
   "id": "c4349557-1250-49f1-99c0-c7c4d1d8f12e",
   "metadata": {},
   "source": [
    "## 8. Descriptive Statistics for Data"
   ]
  },
  {
   "cell_type": "markdown",
   "id": "fbc9585b-de61-4b66-b16e-48a15e15b5ad",
   "metadata": {},
   "source": [
    "Local spatial autocorrelation is detected by our hotspot analysis, so was not performed separately as a descriptive statistics. Similarly random point patterns were not analyzed as our project centers around the potential non-random patterns present in spills in the Mediterranean. \n",
    "Summary statistics were generated for the oil spill centroid dataset, showing the total number of points as 7161, the spatial mean of the dataset at (17.498106, 35.951041), and a standard distance of 5.037642. A map was additionally generated to visualize these summary statistics below."
   ]
  },
  {
   "cell_type": "markdown",
   "id": "5d2cb8b5-d046-4e92-96a5-fa2b8154d22f",
   "metadata": {},
   "source": [
    "## 9. Analysis"
   ]
  },
  {
   "cell_type": "markdown",
   "id": "e96c3ed4-e58c-4d3e-a026-69524d9e0a64",
   "metadata": {},
   "source": [
    "### Map Prep and Projecting"
   ]
  },
  {
   "cell_type": "code",
   "execution_count": null,
   "id": "a678846c-c100-4fb4-a109-36f05e439aed",
   "metadata": {},
   "outputs": [],
   "source": [
    "def query_to_gdf_vis(data):\n",
    "    gdf = gpd.GeoDataFrame.from_features(data[\"features\"])\n",
    "    gdf.crs = \"EPSG:4326\"\n",
    "    gdf = gdf.to_crs(epsg=3857)\n",
    "    ax = gdf.plot(figsize=(10, 10), alpha=0.5, edgecolor=\"k\")\n",
    "    ctx.add_basemap(\n",
    "        ax, source=ctx.providers.OpenStreetMap.Mapnik, crs=gdf.crs.to_string()\n",
    "    )\n",
    "    plt.show()\n",
    "    return gdf\n",
    "\n",
    "def query_to_gdf_vis_col(data):\n",
    "    gdf = gpd.GeoDataFrame.from_features(data[\"features\"])\n",
    "    gdf.crs = \"EPSG:4326\"\n",
    "    gdf = gdf.to_crs(epsg=3857)\n",
    "    ax = gdf.plot(\n",
    "        figsize=(10, 10),\n",
    "        alpha=0.6,\n",
    "        edgecolor=\"k\",\n",
    "        column='cluster',       # color by cluster\n",
    "        cmap='tab10',           # categorical color map\n",
    "        legend=True\n",
    "    )\n",
    "    plt.show()\n",
    "    return gdf"
   ]
  },
  {
   "cell_type": "code",
   "execution_count": null,
   "id": "7e528e6d-acdf-4a87-883d-2ef74bb2cdfe",
   "metadata": {},
   "outputs": [],
   "source": [
    "example_aoi_name = (\n",
    "    \"https://api.cerulean.skytruth.org/collections/public.aoi/items\"  # This is the endpoint for all AOI data\n",
    "    \"?filter=LOWER(name) LIKE '%medit%'\"  # filter by name (helps to search for what aois we can look at)\n",
    ")\n",
    "\n",
    "data = requests.get(example_aoi_name).json()\n",
    "print(\"Number of results:\", len(data[\"features\"]))\n",
    "print(data[\"features\"][1][\"properties\"])\n",
    "\n",
    "aoi_id = data[\"features\"][0][\"properties\"][\"id\"]\n",
    "aoi_id2 = data[\"features\"][1][\"properties\"][\"id\"]"
   ]
  },
  {
   "cell_type": "code",
   "execution_count": null,
   "id": "b7f2bb30-1606-4b14-8114-cd1ccaaad462",
   "metadata": {
    "scrolled": true
   },
   "outputs": [],
   "source": [
    "def get_slicks_by_aoi(aoi_id):\n",
    "    '''takes an aoi_id input and queries it with our specified characteristics'''\n",
    "    url = (\n",
    "        \"https://api.cerulean.skytruth.org/collections/public.get_slicks_by_aoi/items\"\n",
    "        \"?limit=9999\" # limiting to 100 for now while testing (default if not specific is 10, max is 9999)\n",
    "        \"&sortby=-machine_confidence\" # sort by machine confidence (how confident it is that its an actual spill)\n",
    "        \"&datetime=2020-01-01T00:00:00Z/2021-01-01T00:00:00Z\"  # Limit results to a specific date range (jan 01 2020 to jan 01 2021)\n",
    "        \"&filter=machine_confidence GTE 0.90\"  # Sort by machine confidence in descending order, only return spills with detection confidence greater than or equal to .90\n",
    "        f\"&aoi_id={aoi_id}\" # by specific area of interest id, for us it's mediterranean west basin and med east basin : f is used bc API queries read in weird sometimes, this helps it read it the way we want\n",
    "    )\n",
    "    data = requests.get(url).json()\n",
    "    # print(\"Response for AOI:\", aoi_id)\n",
    "    # print(data)  # add these two lines to debug if needed\n",
    "    return query_to_gdf_vis(data)\n",
    "\n",
    "# query both AOIs and combine the gdfs\n",
    "gdf1 = get_slicks_by_aoi(aoi_id)\n",
    "gdf2 = get_slicks_by_aoi(aoi_id2)\n"
   ]
  },
  {
   "cell_type": "code",
   "execution_count": null,
   "id": "a0ed08e0-9dc9-4956-926e-662a5504a187",
   "metadata": {},
   "outputs": [],
   "source": [
    "def get_slicks_by_aoi(aoi_id):\n",
    "    '''takes an aoi_id input and queries it with our specified characteristics'''\n",
    "    url = (\n",
    "        \"https://api.cerulean.skytruth.org/collections/public.get_slicks_by_aoi/items\"\n",
    "        \"?limit=9999\" # limiting to 100 for now while testing (default if not specific is 10, max is 9999)\n",
    "        \"&sortby=-machine_confidence\" # sort by machine confidence (how confident it is that its an actual spill)\n",
    "        \"&datetime=2021-01-01T00:00:00Z/2022-01-01T00:00:00Z\"  # Limit results to a specific date range (jan 01 2021 to jan 01 2022)\n",
    "        \"&filter=machine_confidence GTE 0.90\"  # Sort by machine confidence in descending order, only return spills with detection confidence greater than or equal to .90\n",
    "        f\"&aoi_id={aoi_id}\" # by specific area of interest id, for us it's mediterranean west basin and med east basin : f is used bc API queries read in weird sometimes, this helps it read it the way we want\n",
    "    )\n",
    "    data = requests.get(url).json()\n",
    "    # print(\"Response for AOI:\", aoi_id)\n",
    "    # print(data)  # add these two lines to debug if needed\n",
    "    return query_to_gdf_vis(data)\n",
    "\n",
    "# query both AOIs and combine the gdfs\n",
    "gdf3 = get_slicks_by_aoi(aoi_id)\n",
    "gdf4 = get_slicks_by_aoi(aoi_id2)\n"
   ]
  },
  {
   "cell_type": "markdown",
   "id": "e02aae29-ac89-4225-aa71-f76c17218f40",
   "metadata": {},
   "source": [
    "def get_slicks_by_aoi(aoi_id):\n",
    "    '''takes an aoi_id input and queries it with our specified characteristics'''\n",
    "    url = (\n",
    "        \"https://api.cerulean.skytruth.org/collections/public.get_slicks_by_aoi/items\"\n",
    "        \"?limit=9999\" # limiting to 100 for now while testing (default if not specific is 10, max is 9999)\n",
    "        \"&sortby=-machine_confidence\" # sort by machine confidence (how confident it is that its an actual spill)\n",
    "        \"&datetime=2022-01-01T00:00:00Z/2023-01-01T00:00:00Z\"  # Limit results to a specific date range (jan 01 2022 to jan 01 2023)\n",
    "        \"&filter=machine_confidence GTE 0.90\"  # Sort by machine confidence in descending order, only return spills with detection confidence greater than or equal to .90\n",
    "        f\"&aoi_id={aoi_id}\" # by specific area of interest id, for us it's mediterranean west basin and med east basin : f is used bc API queries read in weird sometimes, this helps it read it the way we want\n",
    "    )\n",
    "    data = requests.get(url).json()\n",
    "    # print(\"Response for AOI:\", aoi_id)\n",
    "    # print(data)  # add these two lines to debug if needed\n",
    "    return query_to_gdf_vis(data)\n",
    "\n",
    "# query both AOIs and combine the gdfs\n",
    "gdf5 = get_slicks_by_aoi(aoi_id)\n",
    "gdf6 = get_slicks_by_aoi(aoi_id2)\n"
   ]
  },
  {
   "cell_type": "code",
   "execution_count": null,
   "id": "7a314bb7-8ca5-45b2-b822-1f858c01b9c3",
   "metadata": {},
   "outputs": [],
   "source": [
    "def get_slicks_by_aoi(aoi_id):\n",
    "    '''takes an aoi_id input and queries it with our specified characteristics'''\n",
    "    url = (\n",
    "        \"https://api.cerulean.skytruth.org/collections/public.get_slicks_by_aoi/items\"\n",
    "        \"?limit=9999\" # limiting to 100 for now while testing (default if not specific is 10, max is 9999)\n",
    "        \"&sortby=-machine_confidence\" # sort by machine confidence (how confident it is that its an actual spill)\n",
    "        \"&datetime=2023-01-01T00:00:00Z/2024-01-01T00:00:00Z\"  # Limit results to a specific date range (jan 01 2023 to jan 01 2024)\n",
    "        \"&filter=machine_confidence GTE 0.90\"  # Sort by machine confidence in descending order, only return spills with detection confidence greater than or equal to .90\n",
    "        f\"&aoi_id={aoi_id}\" # by specific area of interest id, for us it's mediterranean west basin and med east basin : f is used bc API queries read in weird sometimes, this helps it read it the way we want\n",
    "    )\n",
    "    data = requests.get(url).json()\n",
    "    # print(\"Response for AOI:\", aoi_id)\n",
    "    # print(data)  # add these two lines to debug if needed\n",
    "    return query_to_gdf_vis(data)\n",
    "\n",
    "# query both AOIs and combine the gdfs\n",
    "gdf7 = get_slicks_by_aoi(aoi_id)\n",
    "gdf8 = get_slicks_by_aoi(aoi_id2)\n"
   ]
  },
  {
   "cell_type": "code",
   "execution_count": null,
   "id": "b486b980-791d-4b71-8d89-fe12385a60be",
   "metadata": {},
   "outputs": [],
   "source": [
    "def get_slicks_by_aoi(aoi_id):\n",
    "    '''takes an aoi_id input and queries it with our specified characteristics'''\n",
    "    url = (\n",
    "        \"https://api.cerulean.skytruth.org/collections/public.get_slicks_by_aoi/items\"\n",
    "        \"?limit=9999\" # limiting to 100 for now while testing (default if not specific is 10, max is 9999)\n",
    "        \"&sortby=-machine_confidence\" # sort by machine confidence (how confident it is that its an actual spill)\n",
    "        \"&datetime=2024-01-01T00:00:00Z/2025-01-01T00:00:00Z\"  # Limit results to a specific date range (jan 01 2024 to jan 01 2025)\n",
    "        \"&filter=machine_confidence GTE 0.90\"  # Sort by machine confidence in descending order, only return spills with detection confidence greater than or equal to .90\n",
    "        f\"&aoi_id={aoi_id}\" # by specific area of interest id, for us it's mediterranean west basin and med east basin : f is used bc API queries read in weird sometimes, this helps it read it the way we want\n",
    "    )\n",
    "    data = requests.get(url).json()\n",
    "    # print(\"Response for AOI:\", aoi_id)\n",
    "    # print(data)  # add these two lines to debug if needed\n",
    "    return query_to_gdf_vis(data)\n",
    "\n",
    "# query both AOIs and combine the gdfs\n",
    "gdf9 = get_slicks_by_aoi(aoi_id)\n",
    "gdf10 = get_slicks_by_aoi(aoi_id2)"
   ]
  },
  {
   "cell_type": "code",
   "execution_count": null,
   "id": "dd7a2529-9cf6-4626-97e8-a156bf7080a9",
   "metadata": {},
   "outputs": [],
   "source": [
    "gdf_combined20 = gpd.GeoDataFrame(pd.concat([gdf1, gdf2], ignore_index=True))\n",
    "gdf_combined21 = gpd.GeoDataFrame(pd.concat([gdf3, gdf4], ignore_index=True))\n",
    "gdf_combined22 = gpd.GeoDataFrame(pd.concat([gdf5, gdf6], ignore_index=True))\n",
    "gdf_combined23 = gpd.GeoDataFrame(pd.concat([gdf7, gdf8], ignore_index=True))\n",
    "gdf_combined24 = gpd.GeoDataFrame(pd.concat([gdf9, gdf10], ignore_index=True))"
   ]
  },
  {
   "cell_type": "code",
   "execution_count": null,
   "id": "06b98f0c-528c-426e-9c53-914042e26246",
   "metadata": {},
   "outputs": [],
   "source": [
    "gdf_final = gpd.GeoDataFrame(pd.concat(\n",
    "    [gdf_combined20, gdf_combined21, gdf_combined22, gdf_combined23, gdf_combined24],\n",
    "    ignore_index=True\n",
    "))\n",
    "gdf_final.crs"
   ]
  },
  {
   "cell_type": "code",
   "execution_count": null,
   "id": "be047baa-b511-446c-995b-32c8ddb20ca5",
   "metadata": {},
   "outputs": [],
   "source": [
    "gdf_final.head()\n",
    "# gdf_combined.shape"
   ]
  },
  {
   "cell_type": "code",
   "execution_count": null,
   "id": "d22739c2-c371-46ba-a58e-d85b52407de4",
   "metadata": {},
   "outputs": [],
   "source": [
    "gdf_projected = gdf_final.to_crs(epsg=32633)\n",
    "gdf_centroids = gdf_projected.copy()\n",
    "gdf_centroids['geometry'] = gdf_projected['geometry'].centroid"
   ]
  },
  {
   "cell_type": "code",
   "execution_count": null,
   "id": "5d453090-89b7-4236-b7fb-e7e28a3c6a37",
   "metadata": {},
   "outputs": [],
   "source": [
    "#gdf_centroids = gdf_centroids.to_crs(gdf_final.crs)\n",
    "\n",
    "# Step 3: Extract centroid coordinates into new columns\n",
    "gdf_centroids['longitude'] = gdf_centroids.geometry.x\n",
    "gdf_centroids['latitude'] = gdf_centroids.geometry.y\n",
    "\n",
    "# Step 4: Drop the geometry column if you only want CSV with coordinates\n",
    "teamoilspillcentroids_csv = gdf_centroids.drop(columns='geometry')\n",
    "\n",
    "# Step 5: Save to CSV\n",
    "teamoilspillcentroids_csv.to_csv('teamoilspillcentroids.csv', index=False)"
   ]
  },
  {
   "cell_type": "code",
   "execution_count": null,
   "id": "43695a53-5cd8-41d9-86c3-96900e93731d",
   "metadata": {},
   "outputs": [],
   "source": [
    "#gdf_final['geometry'] = gdf_final['geometry'].apply(lambda geom: geom.wkt)\n",
    "\n",
    "# Save to CSV\n",
    "gdf_final.to_csv(\"teamoilspill.csv\", index=False)"
   ]
  },
  {
   "cell_type": "markdown",
   "id": "f5231e9c-7421-43d2-9b76-8b1b56c5e537",
   "metadata": {},
   "source": [
    "### Clustering"
   ]
  },
  {
   "cell_type": "markdown",
   "id": "3776bd4b-6a13-44d5-8927-3912086ae6c2",
   "metadata": {},
   "source": [
    "To investigate patterns in oil spill occurrences throughout the Mediterranean, we conducted both clustering and spatial statistical analyses on point data representing spill centroids. Our core analytical approach began with Density-Based Spatial Clustering of Applications with Noise (DBSCAN), a non-parametric clustering algorithm ideal for identifying spatial clusters of arbitrary shape and size. DBSCAN was chosen over other clustering techniques because of its effectiveness in handling large datasets with noise — a critical factor given the volume and variability of the spill data. Furthermore, while HDBSCAN could have been considered for its hierarchical capabilities, we prioritized DBSCAN for the greater manual control it provides in tuning minimum sample sizes and spatial radii, which allowed us to explore the clustering behavior at different density thresholds.\n"
   ]
  },
  {
   "cell_type": "code",
   "execution_count": null,
   "id": "3d755cbd-1ea8-46f4-b5af-fe2330fcbdd8",
   "metadata": {},
   "outputs": [],
   "source": [
    "#extract coordinates\n",
    "coords = gdf_centroids[['longitude', 'latitude']].values\n"
   ]
  },
  {
   "cell_type": "code",
   "execution_count": null,
   "id": "41c36e2b-c3b2-437c-9f76-6cedb3987a34",
   "metadata": {},
   "outputs": [],
   "source": [
    "# standardize coordinates\n",
    "scaler = StandardScaler()\n",
    "coords_scaled = scaler.fit_transform(coords)\n"
   ]
  },
  {
   "cell_type": "code",
   "execution_count": null,
   "id": "54ec4e58-c4dd-462a-852d-f8dba88d55f9",
   "metadata": {},
   "outputs": [],
   "source": [
    "scaler = StandardScaler()\n",
    "coords_scaled = scaler.fit_transform(coords)"
   ]
  },
  {
   "cell_type": "code",
   "execution_count": null,
   "id": "bb6e3ea6-bb22-4140-ba2f-23a9362b0d78",
   "metadata": {},
   "outputs": [],
   "source": [
    "# apply dbscan\n",
    "db = DBSCAN(eps=0.08, min_samples=15)  # this looks the best\n",
    "labels = db.fit_predict(coords_scaled)"
   ]
  },
  {
   "cell_type": "code",
   "execution_count": null,
   "id": "cb4ef848-dec3-42be-b80e-5b80b3eb8e62",
   "metadata": {},
   "outputs": [],
   "source": [
    "# add cluster labels back to GeoDataFrame\n",
    "gdf_centroids['cluster'] = labels"
   ]
  },
  {
   "cell_type": "code",
   "execution_count": null,
   "id": "4b47a57f-d915-45a2-9312-3d8fab3bbb6b",
   "metadata": {},
   "outputs": [],
   "source": [
    "# plot the clusters\n",
    "fig, ax = plt.subplots(figsize=(10, 8))\n",
    "scatter = ax.scatter(\n",
    "    gdf_centroids['longitude'],\n",
    "    gdf_centroids['latitude'],\n",
    "    c=gdf_centroids['cluster'],\n",
    "    cmap='tab10',\n",
    "    s=10,\n",
    "    alpha=0.6\n",
    ")\n",
    "plt.title('DBSCAN Clustering of Oil Slicks')\n",
    "plt.xlabel('Longitude')\n",
    "plt.ylabel('Latitude')\n",
    "plt.colorbar(scatter, label='Cluster Label')\n",
    "plt.show()"
   ]
  },
  {
   "cell_type": "code",
   "execution_count": null,
   "id": "e204516a-44fe-4cc8-87f1-ae1825856a1f",
   "metadata": {},
   "outputs": [],
   "source": [
    "ax = gdf_centroids.plot(\n",
    "        column='cluster',       # Color by this column\n",
    "        cmap='tab10',           # Use a categorical color map\n",
    "        figsize=(10, 10),\n",
    "        edgecolor='black',\n",
    "        linewidth=0.5,\n",
    "        alpha=0.6\n",
    "    )\n",
    "ctx.add_basemap(ax, source=ctx.providers.OpenStreetMap.Mapnik, crs=gdf_centroids.crs)\n",
    "ax.set_title(\"Spill Cluster Groups in the Mediterranean Sea\")\n",
    "ax.set_axis_off()\n",
    "plt.show()"
   ]
  },
  {
   "cell_type": "markdown",
   "id": "823450da-80fe-4c53-8227-8fa4c17cadf0",
   "metadata": {},
   "source": [
    "### k-NN Graph"
   ]
  },
  {
   "cell_type": "markdown",
   "id": "405757ad-4485-4792-af8f-06c6827e261e",
   "metadata": {},
   "source": [
    "To select the optimal spatial radius parameter (epsilon), we generated a k-nearest neighbors (k-NN) distance graph, with _k=10_. This graph plots the distances to each point’s 10th nearest neighbor in ascending order. The resulting curve revealed a distinct elbow at approximately 0.08, which in our projected coordinate reference system (EPSG:3035) translates to roughly 8 kilometers. The elbow marks the point where the marginal gain in neighbor inclusion plateaus, suggesting it as a natural threshold for the radius of influence around each spill. Based on this, we defined epsilon = 0.08 and set the minimum sample size to 15, which means that for any oil spill to be considered part of a cluster, it must have at least 14 other nearby spills within an 8 km radius. These parameters yielded a robust and interpretable clustering pattern, revealing three distinct spatial groupings across the Mediterranean region."
   ]
  },
  {
   "cell_type": "code",
   "execution_count": null,
   "id": "7a51305f-5e05-4681-96f2-4f18c105d284",
   "metadata": {},
   "outputs": [],
   "source": [
    "from sklearn.neighbors import NearestNeighbors\n",
    "import numpy as np\n",
    "\n",
    "# 10 nearest neighbors \n",
    "neighbors = NearestNeighbors(n_neighbors=10)\n",
    "neighbors_fit = neighbors.fit(coords_scaled)\n",
    "distances, _ = neighbors_fit.kneighbors(coords_scaled)"
   ]
  },
  {
   "cell_type": "code",
   "execution_count": null,
   "id": "fa033d09-09ee-4b0f-ad63-9bd78fb7b382",
   "metadata": {},
   "outputs": [],
   "source": [
    "# Sort distances to visualize the elbow\n",
    "distances = np.sort(distances[:, -1])  # Use the 10th nearest neighbor distance\n",
    "plt.figure(figsize=(8, 5))\n",
    "plt.plot(distances)\n",
    "plt.title('k-NN Distance Plot for Choosing eps')\n",
    "plt.xlabel('Points sorted by distance to 10th nearest neighbor')\n",
    "plt.ylabel('Distance')\n",
    "plt.grid(True)\n",
    "plt.show()"
   ]
  },
  {
   "cell_type": "markdown",
   "id": "e7aeaf21-ee91-4df4-b6b9-5162730a8f94",
   "metadata": {},
   "source": [
    "### Hot Spot Analysis"
   ]
  },
  {
   "cell_type": "markdown",
   "id": "0b0e72d6-0697-4d1b-8ed4-da5f6bffef58",
   "metadata": {},
   "source": [
    "Beyond DBSCAN, we conducted a Hot Spot Analysis using the `find_hot_spots` function from the ArcGIS `analyze_patterns` module. This tool implements the Getis-Ord Gi* statistic to identify statistically significant spatial clusters of high (hot spots) and low (cold spots) values, using the density of spill points across a hexagonal grid overlay. Each hexagon's significance is measured via z-scores and p-values, which test the null hypothesis that the observed pattern could be due to random spatial distribution. Hex bins shaded in dark red represent hot spots with high spill density and strong statistical confidence (p < 0.01), suggesting consistent or anomalous activity in those areas. In contrast, dark blue bins identify cold spots with unusually low spill density. This method enriched our understanding of spatial intensity by layering statistical significance over raw point density, highlighting where policy or monitoring efforts may be especially critical."
   ]
  },
  {
   "cell_type": "code",
   "execution_count": null,
   "id": "92d2c73a-b736-46f6-bc28-39bd18804f1b",
   "metadata": {},
   "outputs": [],
   "source": [
    "gdf_centroids.head()"
   ]
  },
  {
   "cell_type": "code",
   "execution_count": null,
   "id": "db8bb7a2-660d-40b9-baf8-ab11e8c93a9b",
   "metadata": {},
   "outputs": [],
   "source": [
    "#Truncating column names to less than 10, and if they are duplicates than add 1,2,3...etc.\n",
    "def truncate_column_names_safe(gdf, max_length=10):\n",
    "    existing = set()\n",
    "    new_columns = {}\n",
    "\n",
    "    for col in gdf.columns:\n",
    "        if len(col) <= max_length:\n",
    "            new_col = col\n",
    "        else:\n",
    "            base = col[:max_length]\n",
    "            new_col = base\n",
    "            i = 1\n",
    "            while new_col in existing or new_col in new_columns.values():\n",
    "                suffix = f\"_{i}\"\n",
    "                new_col = (base[:max_length - len(suffix)] + suffix)\n",
    "                i += 1\n",
    "        new_columns[col] = new_col\n",
    "        existing.add(new_col)\n",
    "\n",
    "    return gdf.rename(columns=new_columns)\n",
    "\n",
    "# Use it\n",
    "gdf_short = truncate_column_names_safe(gdf_centroids)\n",
    "\n"
   ]
  },
  {
   "cell_type": "code",
   "execution_count": null,
   "id": "a7d7fe15-2f7a-4f7e-8b36-a0090efe55d9",
   "metadata": {},
   "outputs": [],
   "source": [
    "gdf_short.head()"
   ]
  },
  {
   "cell_type": "code",
   "execution_count": null,
   "id": "66479299-3bbc-4fc3-9121-95786486ebd0",
   "metadata": {},
   "outputs": [],
   "source": [
    "sdf = GeoAccessor.from_geodataframe(gdf_short)\n",
    "gdf_short.to_file(\"oil_spill_points.shp\") \n",
    "\n",
    "# this produces a few errors on unprocessable lat/long coords - these are ignored"
   ]
  },
  {
   "cell_type": "code",
   "execution_count": null,
   "id": "c6ba0a93-2bfa-4d2e-9dd4-fa606bf46f43",
   "metadata": {},
   "outputs": [],
   "source": [
    "# This cell uploads our hot spot to ArcGIS - don't run again bc the output_name will already exist and give you an error\n",
    "#spills_fl = gis.content.get('48b841b969da4129be70d0cd9998fdee') # this is our centroid data uploaded as a FeatureLayer to ArcGIS Online\n",
    "\n",
    "\n",
    "#spill_hot_spots = arcgis.features.analysis.find_hot_spots(spills_fl,\n",
    "#                                     output_name='oil_spills_hotspots',\n",
    "#                                     shape_type='hexagon', gis=gis)\n",
    "\n",
    "spill_hot_spots = gis.content.get('b703defbd8fe432095ebdba924dc0a33') # this is just calling the hotspot layer we made in AGOL with the above code\n",
    "\n",
    "# The error produced on CRS is ignored - the projected CRS is correct and the same"
   ]
  },
  {
   "cell_type": "code",
   "execution_count": null,
   "id": "122d58be-4ce3-47a9-a7e0-49ad911748fd",
   "metadata": {},
   "outputs": [],
   "source": [
    "spill_hot_spots"
   ]
  },
  {
   "cell_type": "code",
   "execution_count": null,
   "id": "d16388e1-edd6-425f-be6e-ea0053031339",
   "metadata": {},
   "outputs": [],
   "source": [
    "m4 = gis.map('Mediterranean Sea')\n",
    "m4.content.add(spill_hot_spots)\n",
    "m4.legend.enabled = True\n",
    "m4"
   ]
  },
  {
   "cell_type": "markdown",
   "id": "1213724b-db78-480c-8a14-8928cb863c53",
   "metadata": {},
   "source": [
    "### Spatial Mean and Standard Distance"
   ]
  },
  {
   "cell_type": "markdown",
   "id": "661dfa3a-6a80-45fb-a595-e065875a8392",
   "metadata": {},
   "source": [
    "To complement these clustering and hot spot techniques, we also calculated two spatial statistics: the spatial mean (a point representing the average location of all spill events) and standard distance (analogous to standard deviation, but in two-dimensional space). The spatial mean provided a central tendency for spill locations, while the standard distance visualized the overall geographic spread. These were plotted alongside our DBSCAN clusters and hot spot bins on basemaps from _OpenStreetMap_, which added interpretability by showing marine geography and nearby coastlines."
   ]
  },
  {
   "cell_type": "code",
   "execution_count": null,
   "id": "cab6b6b6-2be5-4780-a150-911d8b6432e3",
   "metadata": {},
   "outputs": [],
   "source": [
    "mean_x = gdf_centroids.geometry.x.mean()\n",
    "mean_y = gdf_centroids.geometry.y.mean()\n",
    "spatial_mean = Point(mean_x, mean_y)\n",
    "\n",
    "# Standard distance (similar to std dev but in space)\n",
    "dists = np.sqrt((gdf_centroids.geometry.x - mean_x)**2 + (gdf_centroids.geometry.y - mean_y)**2)\n",
    "standard_distance = dists.std()\n",
    "\n",
    "fig, ax = plt.subplots(figsize=(10, 10))\n",
    "gdf_centroids.plot(ax=ax, alpha=0.6, edgecolor='k')\n",
    "gpd.GeoSeries([spatial_mean]).plot(ax=ax, color='red', marker='x', label='Spatial Mean')\n",
    "circle = plt.Circle((mean_x, mean_y), standard_distance, color='orange', fill=False, label='Std Distance')\n",
    "ax.add_patch(circle)\n",
    "ctx.add_basemap(ax, source=ctx.providers.OpenStreetMap.Mapnik, crs=gdf_centroids.crs)\n",
    "ax.legend()\n",
    "ax.set_title('Oil Spills: Spatial Mean and Standard Distance')"
   ]
  },
  {
   "cell_type": "code",
   "execution_count": null,
   "id": "cc70a91d-a4c2-49fd-9424-e30e28b32458",
   "metadata": {},
   "outputs": [],
   "source": [
    "print(\"Number of points:\", len(gdf_centroids))\n",
    "print(\"Spatial Mean:\", spatial_mean)\n",
    "print(\"Standard Distance:\", standard_distance)"
   ]
  },
  {
   "cell_type": "markdown",
   "id": "038fed60-9359-4cae-8217-2a7eed44b4fb",
   "metadata": {},
   "source": [
    "Collectively, these analyses offered a multi-layered view of spill dynamics — from raw clustering to statistical validation and spatial distribution. The combination of unsupervised machine learning, geostatistics, and visualization helped uncover not only where spills are happening, but also how often, how tightly grouped, and how likely they are to be non-random. This holistic approach lays the groundwork for predictive monitoring or further anomaly detection of vessels responsible for pollution."
   ]
  },
  {
   "cell_type": "markdown",
   "id": "b6a61f47-f794-4305-ad6f-caa21c791503",
   "metadata": {
    "jp-MarkdownHeadingCollapsed": true
   },
   "source": [
    "## 10. Summary of Results"
   ]
  },
  {
   "cell_type": "markdown",
   "id": "68f3c192-a6bd-45cc-839e-c5c024417a1e",
   "metadata": {},
   "source": [
    "From this analysis of SkyTruth’s Cerulean data on satellite-detected oil spills, multiple statistically significant hot and cold spots for spills were detected in the Mediterranean Sea. The hotspots are concentrated around coastal areas, while the cold spots are generally found in areas further from shore. This was somewhat counterintuitive, as originally we believed areas further from shore would be more conducive to discreet intentional dumping. The hotspots for spills are in the northeastern Levantine Sea, concentrated north of Cyprus along the coast of Turkey from the port of Antalya, to the ports of Mersin and Iskenderun, and down the western coasts of Syria and Lebanon around the ports of Latakia and Tartus, as well as the port of Tripoli. Other hotspots include the eastern coast of Tunisia, around the ports of Sousse, Sfax, and Gabès. \n",
    "\n",
    "The southern and southwestern coast of Sicily is an additional hotspot, around Porto Empodocles, as well as the eastern coast of Algeria around the ports of Béjaïa, Skikda, and Annaba. Cold spots are concentrated further out in the sea between the islands of Sardinia and Mallorca, and in a swath along the coast of Libya and further out into the Mediterranean. The majority of these ports are cargo ports, and further research into this potential correlation is warranted. These findings nevertheless allow coastal states and Regional Fisheries Management Organizations (RFMOs) active in the area, like the General Fisheries Commission for the Mediterranean (GFCM) to better allocate their limited enforcement resources.\n"
   ]
  },
  {
   "cell_type": "markdown",
   "id": "1c2242ac-318e-4490-bf51-e480d5406397",
   "metadata": {},
   "source": [
    "## 11. Discussion"
   ]
  },
  {
   "cell_type": "markdown",
   "id": "73760400-7be4-42d5-ab11-133a18f23060",
   "metadata": {},
   "source": [
    "These findings dovetail with the earlier literature review, suggesting that a decent portion of oil spills in the Mediterranean stem from industrial activities. It adds on to existing literature by introducing a consideration of major hotspots and examining nearby ports, and specifically by narrowing its focus to a specific geographic region with a history of spills. These results are important, especially to motivate further research on the topic regarding potential correlations between ports and spills in the Mediterranean.\n",
    "\n",
    "An important tradeoff to mention would be the clustering technique, using DBSCAN. First, as opposed to using HDBSCAN, it allowed us to maintain control over the minimum samples, with the consequence of not utilizing the sophistication of the latter method. Regarding the epsilon value, depending on the accuracy or strategy, could create false clusters. \n",
    "\n",
    "Also, the data we used was based on Sentinel-1, with a temporal resolution of 6 days. Therefore, strong currents present in the Mediterranean have the potential to alter oil spill data. Some areas are relatively still, and others have more active currents, so our hotspots should be examined more closely in areas known to have stronger currents.\n",
    "\n",
    "Hot spot analysis grid shapes pose an excellent strategy to view clusters within the grids. As opposed to squares, it eliminates the edge effect bias. Hexagons create a more balanced neighbor relationship, but at the cost of a more granular interpretation. \n"
   ]
  },
  {
   "cell_type": "markdown",
   "id": "dfe2b9bd-fd97-40b2-8fb8-8b12e195f955",
   "metadata": {},
   "source": [
    "## 12. Conclusion and Future Work"
   ]
  },
  {
   "cell_type": "markdown",
   "id": "81c787c3-66a9-492b-a916-9cd513d80f59",
   "metadata": {},
   "source": [
    "While we were unable to completely answer our initial research question of whether spatial and/or temporal clusters of spills portend poor port-reception compliance due to limitations within our dataset, we successfully explored spatial relationships within oil spill incident data in the Mediterranean Sea using machine learning techniques and through the detection of local spatial autocorrelation. Specifically, we revealed several clusters of oil spill incidents in the Mediterranean using the DBSCAN clustering method; we extended this exploration of oil spill data by conducting hot spot analysis to detect statistically significant clusters. Our approach is highly flexible and can be applied to other marine areas outside of the Mediterranean to determine whether concentrations of oil spills are statistically significant in other regions. Additional data on vessel identification would assist with linking oil spills to specific ports; while this data is available through the Cerulean it is not currently available via the API. If and when vessel identification data is made available through the API by SkyTruth, further analysis can be performed to link individual oil spills to specific vessels and their ports of call. This would allow for a more robust analysis of port reception non-compliance, as well as strengthened evaluation of monitoring and enforcement activities. \n",
    "\n",
    "We expect the results of our analysis to be used by maritime safety, environmental regulatory agencies, and local Coast Guard services in the region. Specific organizations that could make use of your findings are the European Maritime Safety Agency, the European Environment Agency, and the Coast Guards of states with significant oil spill clustering within their exclusive economic zones. \n"
   ]
  }
 ],
 "metadata": {
  "kernelspec": {
   "display_name": "Python 3 (ipykernel)",
   "language": "python",
   "name": "python3"
  },
  "language_info": {
   "codemirror_mode": {
    "name": "ipython",
    "version": 3
   },
   "file_extension": ".py",
   "mimetype": "text/x-python",
   "name": "python",
   "nbconvert_exporter": "python",
   "pygments_lexer": "ipython3",
   "version": "3.11.9"
  }
 },
 "nbformat": 4,
 "nbformat_minor": 5
}
